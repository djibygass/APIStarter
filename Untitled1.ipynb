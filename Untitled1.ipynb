{
 "cells": [
  {
   "cell_type": "code",
   "execution_count": 70,
   "id": "5f465bf1",
   "metadata": {},
   "outputs": [],
   "source": [
    "#Imports\n",
    "from typing import List, Tuple, Dict, Any, Callable\n",
    "from collections import defaultdict"
   ]
  },
  {
   "cell_type": "code",
   "execution_count": 67,
   "id": "459755c5",
   "metadata": {},
   "outputs": [],
   "source": [
    "#EXOOOO1\n",
    "\n",
    "def is_list_of_string(func):\n",
    "    \n",
    "    \n",
    "    def inner1(arg):\n",
    "        \n",
    "        x = 0\n",
    "        if isinstance(arg, list) :\n",
    "            for a in arg:\n",
    "                if  not isinstance(a, str):\n",
    "                    raise ValueError('NNNNNOPPPE')\n",
    "        \n",
    "        returned_value = func(arg)\n",
    "        return returned_value\n",
    "         \n",
    "    return inner1"
   ]
  },
  {
   "cell_type": "code",
   "execution_count": 68,
   "id": "4ae20f37",
   "metadata": {},
   "outputs": [
    {
     "name": "stdout",
     "output_type": "stream",
     "text": [
      "['Hello', 'world !']\n"
     ]
    }
   ],
   "source": [
    "@is_list_of_string\n",
    "def process_text(l: List[str]) -> str:\n",
    "   print(l)\n",
    "process_text([\"Hello\", \"world !\"]) # OK !\n",
    "#process_text([\"Hello\", 8]) # Error"
   ]
  },
  {
   "cell_type": "code",
   "execution_count": null,
   "id": "2740d838",
   "metadata": {},
   "outputs": [],
   "source": []
  },
  {
   "cell_type": "code",
   "execution_count": 83,
   "id": "f719e07b",
   "metadata": {},
   "outputs": [
    {
     "name": "stdout",
     "output_type": "stream",
     "text": [
      "{'A': 13, 'B': 12, 'C': 12}\n"
     ]
    }
   ],
   "source": [
    "#EXOOOO 2\n",
    "def reduce_by_key(xs: List[Tuple[Any, int]], f: Callable) -> Dict[Any, int]:\n",
    "    \n",
    "    res = defaultdict(list)\n",
    "    for v, k in my_list: res[v].append(k)\n",
    "    \n",
    "    for a in res:\n",
    "        res[a] = sum(res[a])\n",
    "    \n",
    "    return dict(res)\n",
    "    \n",
    "    \n",
    "my_list = [\n",
    "    ('A', 5), ('B', 8), ('C', 2), ('B', 4),\n",
    "    ('A', 6), ('C', 9), ('C', 1), ('A', 2)\n",
    "]\n",
    "\n",
    "print(reduce_by_key(my_list, lambda x, y: x + y))\n",
    " # {’A’: 13, ’B’: 12, ’C’: 12}"
   ]
  },
  {
   "cell_type": "code",
   "execution_count": null,
   "id": "1bf4e797",
   "metadata": {},
   "outputs": [],
   "source": []
  },
  {
   "cell_type": "code",
   "execution_count": 116,
   "id": "cc99e92c",
   "metadata": {},
   "outputs": [],
   "source": [
    "####EXOOOO3\n",
    "\n",
    "class ScreenPoint():\n",
    "    \n",
    "    def __init__(self, x, y):\n",
    "        self._x = x\n",
    "        self._y = y\n",
    "        \n",
    "    \n",
    "    @property\n",
    "    def x(self):\n",
    "        return self._x\n",
    "\n",
    "    @x.setter\n",
    "    def x(self, value):\n",
    "        self._x = value\n",
    "\n",
    "    @property\n",
    "    def y(self):\n",
    "        return self._y\n",
    "\n",
    "    @y.setter\n",
    "    def y(self, value):\n",
    "        self._y = value\n",
    "        \n",
    "\n",
    "\n",
    "        \n",
    "class ScreenComponent():\n",
    "\n",
    "    def __init__(self, posx, posy, larg, hauteur):\n",
    "        self._posx = posx\n",
    "        self._posy = posy\n",
    "        self._larg = larg\n",
    "        self._hauteur = hauteur\n",
    "        \n",
    "        \n",
    "    @property\n",
    "    def left(self):\n",
    "        return self._posx\n",
    "\n",
    "    @property\n",
    "    def top(self):\n",
    "        return self.posy\n",
    "\n",
    "    @property\n",
    "    def right(self):\n",
    "        return self._posx + self._larg\n",
    "\n",
    "    @property\n",
    "    def bottom(self):\n",
    "        return self._posy + self._hauteur\n",
    "\n",
    "    \n",
    "class Screen():\n",
    "    \n",
    "    def __init__(self, width, height):\n",
    "        self._mousex = 0\n",
    "        self._mousey = 0\n",
    "        self._w = width\n",
    "        self._h = height\n",
    "\n",
    "    @property\n",
    "    def width(self):\n",
    "        return self._w\n",
    "\n",
    "    @property\n",
    "    def height(self):\n",
    "        return self._h\n",
    "\n",
    "    def move_mouse(self, p: ScreenPoint):\n",
    "        if 0 <= p.x < self._w:\n",
    "            self._mousex = p.x\n",
    "      \n",
    "        if 0 <= p.y < self._h:\n",
    "            self._mousey = p.y\n",
    "\n",
    "    def mouse_over_component(self, component: ScreenComponent):\n",
    "        return (\n",
    "            component.left <= self._mousex < component.right and \\\n",
    "            component.top <= self._mousey < component.bottom\n",
    "        )    \n",
    "    \n",
    " \n",
    "        \n",
    "\n",
    "class Window(ScreenComponent):\n",
    "\n",
    "    def __init__(self, posx, posy, larg, hauteur):\n",
    "        super().__init__(posx, posy, larg, hauteur)"
   ]
  },
  {
   "cell_type": "code",
   "execution_count": 117,
   "id": "26e42de6",
   "metadata": {},
   "outputs": [
    {
     "name": "stdout",
     "output_type": "stream",
     "text": [
      "False\n"
     ]
    },
    {
     "ename": "AttributeError",
     "evalue": "'Window' object has no attribute 'posy'",
     "output_type": "error",
     "traceback": [
      "\u001b[0;31m---------------------------------------------------------------------------\u001b[0m",
      "\u001b[0;31mAttributeError\u001b[0m                            Traceback (most recent call last)",
      "Input \u001b[0;32mIn [117]\u001b[0m, in \u001b[0;36m<module>\u001b[0;34m\u001b[0m\n\u001b[1;32m      3\u001b[0m \u001b[38;5;28mprint\u001b[39m(screen\u001b[38;5;241m.\u001b[39mmouse_over_component(window)) \u001b[38;5;66;03m# False car (0, 0) pas sur Window\u001b[39;00m\n\u001b[1;32m      4\u001b[0m screen\u001b[38;5;241m.\u001b[39mmove_mouse(ScreenPoint(\u001b[38;5;241m300\u001b[39m, \u001b[38;5;241m300\u001b[39m))\n\u001b[0;32m----> 5\u001b[0m \u001b[38;5;28mprint\u001b[39m(\u001b[43mscreen\u001b[49m\u001b[38;5;241;43m.\u001b[39;49m\u001b[43mmouse_over_component\u001b[49m\u001b[43m(\u001b[49m\u001b[43mwindow\u001b[49m\u001b[43m)\u001b[49m)\n",
      "Input \u001b[0;32mIn [116]\u001b[0m, in \u001b[0;36mScreen.mouse_over_component\u001b[0;34m(self, component)\u001b[0m\n\u001b[1;32m     78\u001b[0m \u001b[38;5;28;01mdef\u001b[39;00m \u001b[38;5;21mmouse_over_component\u001b[39m(\u001b[38;5;28mself\u001b[39m, component: ScreenComponent):\n\u001b[1;32m     79\u001b[0m     \u001b[38;5;28;01mreturn\u001b[39;00m (\n\u001b[1;32m     80\u001b[0m         component\u001b[38;5;241m.\u001b[39mleft \u001b[38;5;241m<\u001b[39m\u001b[38;5;241m=\u001b[39m \u001b[38;5;28mself\u001b[39m\u001b[38;5;241m.\u001b[39m_mousex \u001b[38;5;241m<\u001b[39m component\u001b[38;5;241m.\u001b[39mright \u001b[38;5;129;01mand\u001b[39;00m \\\n\u001b[0;32m---> 81\u001b[0m         \u001b[43mcomponent\u001b[49m\u001b[38;5;241;43m.\u001b[39;49m\u001b[43mtop\u001b[49m \u001b[38;5;241m<\u001b[39m\u001b[38;5;241m=\u001b[39m \u001b[38;5;28mself\u001b[39m\u001b[38;5;241m.\u001b[39m_mousey \u001b[38;5;241m<\u001b[39m component\u001b[38;5;241m.\u001b[39mbottom\n\u001b[1;32m     82\u001b[0m     )\n",
      "Input \u001b[0;32mIn [116]\u001b[0m, in \u001b[0;36mScreenComponent.top\u001b[0;34m(self)\u001b[0m\n\u001b[1;32m     42\u001b[0m \u001b[38;5;129m@property\u001b[39m\n\u001b[1;32m     43\u001b[0m \u001b[38;5;28;01mdef\u001b[39;00m \u001b[38;5;21mtop\u001b[39m(\u001b[38;5;28mself\u001b[39m):\n\u001b[0;32m---> 44\u001b[0m     \u001b[38;5;28;01mreturn\u001b[39;00m \u001b[38;5;28;43mself\u001b[39;49m\u001b[38;5;241;43m.\u001b[39;49m\u001b[43mposy\u001b[49m\n",
      "\u001b[0;31mAttributeError\u001b[0m: 'Window' object has no attribute 'posy'"
     ]
    }
   ],
   "source": [
    "screen = Screen(1920, 1080)\n",
    "window = Window(200, 200, 600, 400)\n",
    "print(screen.mouse_over_component(window)) # False car (0, 0) pas sur Window\n",
    "screen.move_mouse(ScreenPoint(300, 300))\n",
    "print(screen.mouse_over_component(window)) # True car (300, 3"
   ]
  },
  {
   "cell_type": "code",
   "execution_count": null,
   "id": "eba2bb58",
   "metadata": {},
   "outputs": [],
   "source": []
  },
  {
   "cell_type": "code",
   "execution_count": null,
   "id": "3a5232db",
   "metadata": {},
   "outputs": [],
   "source": []
  },
  {
   "cell_type": "code",
   "execution_count": null,
   "id": "4e320b62",
   "metadata": {},
   "outputs": [],
   "source": []
  },
  {
   "cell_type": "code",
   "execution_count": null,
   "id": "38d374ba",
   "metadata": {},
   "outputs": [],
   "source": []
  },
  {
   "cell_type": "code",
   "execution_count": null,
   "id": "4e40c862",
   "metadata": {},
   "outputs": [],
   "source": []
  }
 ],
 "metadata": {
  "kernelspec": {
   "display_name": "Python 3 (ipykernel)",
   "language": "python",
   "name": "python3"
  },
  "language_info": {
   "codemirror_mode": {
    "name": "ipython",
    "version": 3
   },
   "file_extension": ".py",
   "mimetype": "text/x-python",
   "name": "python",
   "nbconvert_exporter": "python",
   "pygments_lexer": "ipython3",
   "version": "3.9.7"
  }
 },
 "nbformat": 4,
 "nbformat_minor": 5
}
