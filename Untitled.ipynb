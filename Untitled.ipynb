{
 "cells": [
  {
   "cell_type": "code",
   "execution_count": 4,
   "id": "64fdeedc",
   "metadata": {},
   "outputs": [],
   "source": []
  },
  {
   "cell_type": "code",
   "execution_count": 5,
   "id": "6c211c7f",
   "metadata": {},
   "outputs": [
    {
     "name": "stdout",
     "output_type": "stream",
     "text": [
      "wrapper\n",
      "A wrapper function\n",
      "wrapper\n",
      "A wrapper function\n"
     ]
    }
   ],
   "source": [
    "def a_decorator(func):\n",
    "\tdef wrapper(*args, **kwargs):\n",
    "\t\t\"\"\"A wrapper function\"\"\"\n",
    "\t\t# Extend some capabilities of func\n",
    "\t\tfunc()\n",
    "\treturn wrapper\n",
    "\n",
    "@a_decorator\n",
    "def first_function():\n",
    "\t\"\"\"This is docstring for first function\"\"\"\n",
    "\tprint(\"first function\")\n",
    "\n",
    "@a_decorator\n",
    "def second_function(a):\n",
    "\t\"\"\"This is docstring for second function\"\"\"\n",
    "\tprint(\"second function\")\n",
    "\n",
    "print(first_function.__name__)\n",
    "print(first_function.__doc__)\n",
    "print(second_function.__name__)\n",
    "print(second_function.__doc__)\n"
   ]
  },
  {
   "cell_type": "code",
   "execution_count": 6,
   "id": "8c3eef1e",
   "metadata": {},
   "outputs": [
    {
     "name": "stdout",
     "output_type": "stream",
     "text": [
      "First Function\n",
      "Help on function wrapper in module __main__:\n",
      "\n",
      "wrapper(*args, **kwargs)\n",
      "    A wrapper function\n",
      "\n",
      "\n",
      "Second Function\n",
      "Help on function wrapper in module __main__:\n",
      "\n",
      "wrapper(*args, **kwargs)\n",
      "    A wrapper function\n",
      "\n"
     ]
    }
   ],
   "source": [
    "print(\"First Function\")\n",
    "help(first_function)\n",
    "\n",
    "print(\"\\nSecond Function\")\n",
    "help(second_function)\n"
   ]
  },
  {
   "cell_type": "code",
   "execution_count": 7,
   "id": "3820bf8e",
   "metadata": {},
   "outputs": [
    {
     "name": "stdout",
     "output_type": "stream",
     "text": [
      "first_function\n",
      "This is docstring for first function\n",
      "second_function\n",
      "This is docstring for second function\n"
     ]
    }
   ],
   "source": [
    "from functools import wraps\n",
    "\n",
    "def a_decorator(func):\n",
    "\t@wraps(func)\n",
    "\tdef wrapper(*args, **kwargs):\n",
    "\t\t\"\"\"A wrapper function\"\"\"\n",
    "\n",
    "\t\t# Extend some capabilities of func\n",
    "\t\tfunc()\n",
    "\treturn wrapper\n",
    "\n",
    "@a_decorator\n",
    "def first_function():\n",
    "\t\"\"\"This is docstring for first function\"\"\"\n",
    "\tprint(\"first function\")\n",
    "\n",
    "@a_decorator\n",
    "def second_function(a):\n",
    "\t\"\"\"This is docstring for second function\"\"\"\n",
    "\tprint(\"second function\")\n",
    "\n",
    "print(first_function.__name__)\n",
    "print(first_function.__doc__)\n",
    "print(second_function.__name__)\n",
    "print(second_function.__doc__)\n"
   ]
  },
  {
   "cell_type": "code",
   "execution_count": 8,
   "id": "3e1232dd",
   "metadata": {},
   "outputs": [
    {
     "name": "stdout",
     "output_type": "stream",
     "text": [
      "First Function\n",
      "Help on function first_function in module __main__:\n",
      "\n",
      "first_function()\n",
      "    This is docstring for first function\n",
      "\n",
      "\n",
      "Second Function\n",
      "Help on function second_function in module __main__:\n",
      "\n",
      "second_function(a)\n",
      "    This is docstring for second function\n",
      "\n"
     ]
    }
   ],
   "source": [
    "print(\"First Function\")\n",
    "help(first_function)\n",
    "\n",
    "print(\"\\nSecond Function\")\n",
    "help(second_function)\n"
   ]
  },
  {
   "cell_type": "code",
   "execution_count": null,
   "id": "a2bcb7f6",
   "metadata": {},
   "outputs": [],
   "source": []
  }
 ],
 "metadata": {
  "kernelspec": {
   "display_name": "Python 3 (ipykernel)",
   "language": "python",
   "name": "python3"
  },
  "language_info": {
   "codemirror_mode": {
    "name": "ipython",
    "version": 3
   },
   "file_extension": ".py",
   "mimetype": "text/x-python",
   "name": "python",
   "nbconvert_exporter": "python",
   "pygments_lexer": "ipython3",
   "version": "3.9.7"
  }
 },
 "nbformat": 4,
 "nbformat_minor": 5
}
